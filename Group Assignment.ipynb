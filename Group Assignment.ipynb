{
 "cells": [
  {
   "cell_type": "code",
   "execution_count": 55,
   "metadata": {},
   "outputs": [],
   "source": [
    "import pandas as pd\n",
    "import numpy as np"
   ]
  },
  {
   "attachments": {},
   "cell_type": "markdown",
   "metadata": {},
   "source": [
    "df = pd.read_csv(\"NSW_Road_Crash.csv\")\n",
    "df.dropna()"
   ]
  },
  {
   "cell_type": "code",
   "execution_count": 56,
   "metadata": {},
   "outputs": [
    {
     "name": "stdout",
     "output_type": "stream",
     "text": [
      "Index(['Crash ID', 'Degree of crash', 'Degree of crash - detailed',\n",
      "       'Reporting year', 'year', 'Month of crash', 'Day of week of crash',\n",
      "       'Two-hour intervals', 'Street Crash', 'Street type', 'Distance',\n",
      "       'cardinal_direction_name', 'Identifying feature',\n",
      "       'Identifying feature type', 'Town', 'Route no.', 'School zone location',\n",
      "       'School zone active', 'Type of location', 'Latitude', 'Longitude',\n",
      "       'LGA', 'Urbanisation', 'Conurbation 1', 'Alignment',\n",
      "       'Primary permanent feature', 'Primary temporary feature',\n",
      "       'Primary hazardous feature', 'Street lighting', 'Road surface',\n",
      "       'Surface condition', 'Weather', 'Natural lighting', 'Signals operation',\n",
      "       'Other traffic control', 'Speed limit', 'Road classification (admin)',\n",
      "       'RUM - code', 'RUM - description', 'DCA - code', 'DCA - description',\n",
      "       'DCA supplement', 'First impact type', 'Key TU type', 'Other TU type',\n",
      "       'No. of traffic units involved', 'No. killed', 'No. seriously injured',\n",
      "       'No. moderately injured', 'No. minor-other injured'],\n",
      "      dtype='object')\n"
     ]
    }
   ],
   "source": [
    "df1 = pd.read_csv(\"NSW_Road_Crash.csv\")\n",
    "df1.dropna()\n",
    "df1 = df1.rename(columns={'Direction': 'cardinal_direction_name'})\n",
    "df1 = df1.rename(columns={'Year of crash': 'year'})\n",
    "\n",
    "\n",
    "data = df1[df1['year'] >= 2017]\n",
    "\n",
    "df1.dropna()\n",
    "\n",
    "print(df1.columns)\n",
    "\n",
    "#df.head()"
   ]
  },
  {
   "cell_type": "code",
   "execution_count": 57,
   "metadata": {},
   "outputs": [],
   "source": [
    "#function to change String format\n",
    "def String_format(name):\n",
    "    if isinstance(name, str):\n",
    "        new_str = name.capitalize()\n",
    "        return new_str\n",
    "\n",
    "String_format(\"MUAZ\")\n",
    "\n",
    "def abreviation(word,l1,l2):\n",
    "    #search for the word in l1 and return i index of l2\n",
    "    i = 0\n",
    "    while i < len(l1):\n",
    "       if word == l1[i]:\n",
    "           return l2[i]\n",
    "       else:\n",
    "           i += 1\n",
    "           continue \n",
    "    \n",
    "    \n",
    "\n",
    "\n",
    "   \n"
   ]
  },
  {
   "cell_type": "code",
   "execution_count": 58,
   "metadata": {},
   "outputs": [
    {
     "data": {
      "text/plain": [
       "0     WEST\n",
       "1    SOUTH\n",
       "3     EAST\n",
       "4    SOUTH\n",
       "7     WEST\n",
       "Name: Direction, dtype: object"
      ]
     },
     "execution_count": 58,
     "metadata": {},
     "output_type": "execute_result"
    }
   ],
   "source": [
    "unique_street_types = df['Street type'].unique()\n",
    "unique_street_types_list = list(unique_street_types)\n",
    "full_street_type = ['Road','Way','Highway','Drive','Parade','Street','Avenue','Expressway','0','Distributor','Parkway','Court','Lane','Place','Boulevard','Close','Circuit','Crescent','Terrace','Bypass','Mall','Trail','Promenade','Grove','Track','Square','Esplanade','Gardens','Glen','Route','Driveway','Causeway','Loop','Chase','Access','Row','Walk','0']\n",
    "#Loop through the dataset\n",
    "l1 = unique_street_types\n",
    "l2 = full_street_type\n",
    "valid_directions = ['NORTH', 'SOUTH', 'EAST', 'WEST']\n",
    "\n",
    "formatted_rows = []\n",
    "\n",
    "\n",
    "df[\"Direction\"] = df[\"Direction\"].str.upper()\n",
    "for index, row in df.iterrows():\n",
    "    if not pd.isnull(row[\"Street Crash\"]) and not pd.isnull(row[\"Street type\"]) :\n",
    "        formatted_string = String_format(row[\"Street Crash\"]) + \" \" + abreviation(row[\"Street type\"], l1, l2)\n",
    "        #row[\"Direction\"].upper()\n",
    "        formatted_rows.append(formatted_string)\n",
    "    else:\n",
    "        formatted_rows.append(None)\n",
    "\n",
    "df[\"Road_names\"] = formatted_rows\n",
    "df = df[df['Direction'].isin(valid_directions)]\n",
    "df[\"Direction\"].head()\n",
    "\n"
   ]
  },
  {
   "cell_type": "code",
   "execution_count": 59,
   "metadata": {},
   "outputs": [
    {
     "data": {
      "text/html": [
       "<div>\n",
       "<style scoped>\n",
       "    .dataframe tbody tr th:only-of-type {\n",
       "        vertical-align: middle;\n",
       "    }\n",
       "\n",
       "    .dataframe tbody tr th {\n",
       "        vertical-align: top;\n",
       "    }\n",
       "\n",
       "    .dataframe thead th {\n",
       "        text-align: right;\n",
       "    }\n",
       "</style>\n",
       "<table border=\"1\" class=\"dataframe\">\n",
       "  <thead>\n",
       "    <tr style=\"text-align: right;\">\n",
       "      <th></th>\n",
       "      <th>Crash ID</th>\n",
       "      <th>Degree of crash</th>\n",
       "      <th>Degree of crash - detailed</th>\n",
       "      <th>Reporting year</th>\n",
       "      <th>year</th>\n",
       "      <th>Month of crash</th>\n",
       "      <th>Day of week of crash</th>\n",
       "      <th>Two-hour intervals</th>\n",
       "      <th>Street Crash</th>\n",
       "      <th>Street type</th>\n",
       "      <th>...</th>\n",
       "      <th>DCA - description</th>\n",
       "      <th>DCA supplement</th>\n",
       "      <th>First impact type</th>\n",
       "      <th>Key TU type</th>\n",
       "      <th>Other TU type</th>\n",
       "      <th>No. of traffic units involved</th>\n",
       "      <th>No. killed</th>\n",
       "      <th>No. seriously injured</th>\n",
       "      <th>No. moderately injured</th>\n",
       "      <th>No. minor-other injured</th>\n",
       "    </tr>\n",
       "  </thead>\n",
       "  <tbody>\n",
       "  </tbody>\n",
       "</table>\n",
       "<p>0 rows × 50 columns</p>\n",
       "</div>"
      ],
      "text/plain": [
       "Empty DataFrame\n",
       "Columns: [Crash ID, Degree of crash, Degree of crash - detailed, Reporting year, year, Month of crash, Day of week of crash, Two-hour intervals, Street Crash, Street type, Distance, cardinal_direction_name, Identifying feature, Identifying feature type, Town, Route no., School zone location, School zone active, Type of location, Latitude, Longitude, LGA, Urbanisation, Conurbation 1, Alignment, Primary permanent feature, Primary temporary feature, Primary hazardous feature, Street lighting, Road surface, Surface condition, Weather, Natural lighting, Signals operation, Other traffic control, Speed limit, Road classification (admin), RUM - code, RUM - description, DCA - code, DCA - description, DCA supplement, First impact type, Key TU type, Other TU type, No. of traffic units involved, No. killed, No. seriously injured, No. moderately injured, No. minor-other injured]\n",
       "Index: []\n",
       "\n",
       "[0 rows x 50 columns]"
      ]
     },
     "execution_count": 59,
     "metadata": {},
     "output_type": "execute_result"
    }
   ],
   "source": [
    "# North and South thing\n",
    "data = data[(data[\"cardinal_direction_name\"] == \"NORTH\") | (data[\"cardinal_direction_name\"] == \"SOUTH\")| (data[\"cardinal_direction_name\"] == \"EAST\")| (data[\"cardinal_direction_name\"] == \"WEST\")]\n",
    "\n",
    "data.head()"
   ]
  },
  {
   "cell_type": "code",
   "execution_count": 66,
   "metadata": {},
   "outputs": [
    {
     "name": "stdout",
     "output_type": "stream",
     "text": [
      "Degree of crash\n",
      "       Degree of crash  Count\n",
      "                Injury  68457\n",
      "Non-casualty (towaway)  31731\n",
      "                 Fatal   1530\n",
      "Day of week of crash\n",
      "Day of week of crash  Count\n",
      "              Friday  16244\n",
      "            Thursday  15218\n",
      "            Saturday  14944\n",
      "           Wednesday  14883\n",
      "             Tuesday  14387\n",
      "              Monday  13571\n",
      "              Sunday  12471\n",
      "Direction\n",
      "         Direction  Count\n",
      " Right on the spot  55198\n",
      "             North  12920\n",
      "             South  12760\n",
      "              West  10503\n",
      "              East  10111\n",
      "Unknown/not stated    226\n",
      "Type of location\n",
      "     Type of location  Count\n",
      "      2-way undivided  38661\n",
      "           T-junction  24824\n",
      "       X-intersection  15524\n",
      "         Divided road  11492\n",
      "           Roundabout   5480\n",
      "         Dual freeway   4235\n",
      "         1-way street    452\n",
      "                Other    439\n",
      "           L-junction    252\n",
      "           Y-junction    132\n",
      "Multiple intersection    117\n",
      "Single limited access    104\n",
      "              Unknown      6\n",
      "Alignment\n",
      "Alignment  Count\n",
      " Straight  79282\n",
      "   Curved  22432\n",
      "  Unknown      4\n",
      "Surface condition\n",
      "Surface condition  Count\n",
      "              Dry  85498\n",
      "              Wet  15627\n",
      "          Unknown    432\n",
      "      Snow or ice    161\n"
     ]
    }
   ],
   "source": [
    "df = pd.read_csv(\"NSW_Road_Crash.csv\")\n",
    "\n",
    "data = df[df['Year of crash'] >= 2017]\n",
    "\n",
    "df.dropna()\n",
    "\n",
    "#Select some relevant data that may have a potential relationship to crash\n",
    "selected_data = df[['Degree of crash', 'Day of week of crash','Direction','Type of location','Alignment','Surface condition']]\n",
    "\n",
    "table_string = selected_data.to_string(index=False)\n",
    "#print(table_string)\n",
    "\n",
    "selected_column = df['Degree of crash']\n",
    "value_counts = selected_column.value_counts().reset_index()\n",
    "value_counts.columns = ['Degree of crash', 'Count']\n",
    "table_string = value_counts.to_string(index=False)\n",
    "table_with_caption = table_string.split('\\n')\n",
    "table_with_caption.insert(0, 'Degree of crash')\n",
    "print('\\n'.join(table_with_caption))\n",
    "\n",
    "selected_column = df['Day of week of crash']\n",
    "value_counts = selected_column.value_counts().reset_index()\n",
    "value_counts.columns = ['Day of week of crash', 'Count']\n",
    "table_string = value_counts.to_string(index=False)\n",
    "table_with_caption = table_string.split('\\n')\n",
    "table_with_caption.insert(0, 'Day of week of crash')\n",
    "print('\\n'.join(table_with_caption))\n",
    "\n",
    "selected_column = df['Direction']\n",
    "value_counts = selected_column.value_counts().reset_index()\n",
    "value_counts.columns = ['Direction', 'Count']\n",
    "table_string = value_counts.to_string(index=False)\n",
    "table_with_caption = table_string.split('\\n')\n",
    "table_with_caption.insert(0, 'Direction')\n",
    "print('\\n'.join(table_with_caption))\n",
    "\n",
    "selected_column = df['Type of location']\n",
    "value_counts = selected_column.value_counts().reset_index()\n",
    "value_counts.columns = ['Type of location', 'Count']\n",
    "table_string = value_counts.to_string(index=False)\n",
    "table_with_caption = table_string.split('\\n')\n",
    "table_with_caption.insert(0, 'Type of location')\n",
    "print('\\n'.join(table_with_caption))\n",
    "\n",
    "selected_column = df['Alignment']\n",
    "value_counts = selected_column.value_counts().reset_index()\n",
    "value_counts.columns = ['Alignment', 'Count']\n",
    "table_string = value_counts.to_string(index=False)\n",
    "table_with_caption = table_string.split('\\n')\n",
    "table_with_caption.insert(0, 'Alignment')\n",
    "print('\\n'.join(table_with_caption))\n",
    "\n",
    "selected_column = df['Surface condition']\n",
    "value_counts = selected_column.value_counts().reset_index()\n",
    "value_counts.columns = ['Surface condition', 'Count']\n",
    "table_string = value_counts.to_string(index=False)\n",
    "table_with_caption = table_string.split('\\n')\n",
    "table_with_caption.insert(0, 'Surface condition')\n",
    "print('\\n'.join(table_with_caption))\n",
    "\n"
   ]
  },
  {
   "cell_type": "code",
   "execution_count": 65,
   "metadata": {},
   "outputs": [
    {
     "name": "stdout",
     "output_type": "stream",
     "text": [
      "Day of week of crash  Direction  Type of location  Alignment  Surface condition\n",
      "Friday                East       1-way street      Curved     Dry                  (Friday, East, 1-way street, Curved, Dry, Non-...\n",
      "                                                   Straight   Dry                  (Friday, East, 1-way street, Straight, Dry, In...\n",
      "                                                              Wet                  (Friday, East, 1-way street, Straight, Wet, In...\n",
      "                                 2-way undivided   Curved     Dry                  (Friday, East, 2-way undivided, Curved, Dry, I...\n",
      "                                                              Snow or ice          (Friday, East, 2-way undivided, Curved, Snow o...\n",
      "                                                                                                         ...                        \n",
      "Wednesday             West       T-junction        Straight   Wet                  (Wednesday, West, T-junction, Straight, Wet, I...\n",
      "                                 X-intersection    Curved     Dry                  (Wednesday, West, X-intersection, Curved, Dry,...\n",
      "                                                   Straight   Dry                  (Wednesday, West, X-intersection, Straight, Dr...\n",
      "                                                              Wet                  (Wednesday, West, X-intersection, Straight, We...\n",
      "                                 Y-junction        Straight   Dry                  (Wednesday, West, Y-junction, Straight, Dry, I...\n",
      "Name: count, Length: 1482, dtype: object\n"
     ]
    }
   ],
   "source": [
    "grouped_data = selected_data.groupby(['Day of week of crash','Direction','Type of location','Alignment','Surface condition'])['Degree of crash'].value_counts()\n",
    "max_occurrences = grouped_data.groupby(['Day of week of crash','Direction','Type of location','Alignment','Surface condition']).idxmax()\n",
    "print(max_occurrences)"
   ]
  }
 ],
 "metadata": {
  "kernelspec": {
   "display_name": "Python 3",
   "language": "python",
   "name": "python3"
  },
  "language_info": {
   "codemirror_mode": {
    "name": "ipython",
    "version": 3
   },
   "file_extension": ".py",
   "mimetype": "text/x-python",
   "name": "python",
   "nbconvert_exporter": "python",
   "pygments_lexer": "ipython3",
   "version": "3.9.6"
  },
  "orig_nbformat": 4
 },
 "nbformat": 4,
 "nbformat_minor": 2
}
